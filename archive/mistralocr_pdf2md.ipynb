{
  "cells": [
    {
      "cell_type": "markdown",
      "metadata": {
        "id": "2j19dOQYnRzX"
      },
      "source": [
        "# MISTRAL OCR PDF to MD Translator"
      ]
    },
    {
      "cell_type": "markdown",
      "metadata": {},
      "source": [
        "## 來源說明\n",
        "\n",
        "本 Notebook 修改自 Mistral 官方範例：\n",
        "\n",
        "- 原始文件說明：[https://docs.mistral.ai/capabilities/document/](https://docs.mistral.ai/capabilities/document/)\n",
        "- 原始 Colab Notebook：[https://colab.research.google.com/github/mistralai/cookbook/blob/main/mistral/ocr/structured_ocr.ipynb](https://colab.research.google.com/github/mistralai/cookbook/blob/main/mistral/ocr/structured_ocr.ipynb)\n",
        "\n",
        "> 本 Notebook 為個人學習與實驗用途所做修改，非官方版本。\n"
      ]
    },
    {
      "cell_type": "markdown",
      "metadata": {},
      "source": [
        "## PDF Mistral OCR 匯出工具\n",
        "\n",
        "本 Notebook 可將 PDF 文件自動化轉換為 Markdown 格式，包含以下流程：\n",
        "\n",
        "1. 使用 **Mistral OCR** 模型辨識 PDF 內文與圖片\n",
        "2. 將辨識結果組成含圖片的 Markdown 檔\n",
        "3. 使用 **Gemini** 模型將英文內容翻譯為**台灣繁體中文**\n",
        "4. 匯出 Markdown 檔（原文版 + 翻譯版）與對應圖片"
      ]
    },
    {
      "cell_type": "code",
      "execution_count": null,
      "metadata": {
        "id": "0AiErfi7ne9g"
      },
      "outputs": [],
      "source": [
        "from mistralai import Mistral\n",
        "from mistralai.models import OCRResponse, ImageURLChunk, DocumentURLChunk\n",
        "from IPython.display import Markdown, display\n",
        "from pathlib import Path\n",
        "import base64, os, json\n",
        "import os\n",
        "\n",
        "from dotenv import load_dotenv  # ✅ 要安裝 python-dotenv\n",
        "\n",
        "load_dotenv()  # 👈 這行會自動讀取 .env 中的 key\n",
        "\n",
        "api_key = os.getenv(\"MISTRAL_API_KEY\")\n",
        "\n",
        "if not api_key:\n",
        "    raise ValueError(\"❌ 找不到 MISTRAL_API_KEY，請檢查 .env 是否正確設置。\")\n",
        "\n",
        "client = Mistral(api_key=api_key)\n",
        "\n",
        "# 建立暫時圖片資料夾（後面會用自動命名替代）\n",
        "os.makedirs(\"images\", exist_ok=True)\n"
      ]
    },
    {
      "cell_type": "code",
      "execution_count": null,
      "metadata": {
        "colab": {
          "base_uri": "https://localhost:8080/"
        },
        "id": "gGjpNjMlnhNa",
        "outputId": "fd665fac-81aa-4b5a-81aa-a99d281ad55e"
      },
      "outputs": [],
      "source": [
        "pdf_dir = Path(\".\")  # 或指定資料夾\n",
        "pdf_files = sorted([f for f in pdf_dir.glob(\"*.pdf\")])\n",
        "\n",
        "if not pdf_files:\n",
        "    raise FileNotFoundError(\"❌ 沒有找到任何 PDF 檔案，請確認放在正確資料夾中。\")\n",
        "\n",
        "print(\"📚 可用的 PDF 檔案：\")\n",
        "for i, f in enumerate(pdf_files):\n",
        "    print(f\"  [{i+1}] {f.name}\")\n",
        "\n",
        "choice = input(\"👉 請輸入要處理的檔案編號： \").strip()\n",
        "pdf_file = pdf_files[int(choice)-1]\n",
        "filename_stem = pdf_file.stem\n",
        "\n",
        "print(f\"✅ 已選擇：{pdf_file}\")\n",
        "# 上傳到 mistral\n",
        "uploaded_file = client.files.upload(\n",
        "    file={\n",
        "        \"file_name\": pdf_file.stem,\n",
        "        \"content\": pdf_file.read_bytes(),\n",
        "    },\n",
        "    purpose=\"ocr\"\n",
        ")\n",
        "\n",
        "signed_url = client.files.get_signed_url(file_id=uploaded_file.id, expiry=1)\n",
        "\n",
        "# OCR 分析 PDF\n",
        "pdf_response = client.ocr.process(\n",
        "    document=DocumentURLChunk(document_url=signed_url.url),\n",
        "    model=\"mistral-ocr-latest\",\n",
        "    include_image_base64=True\n",
        ")\n",
        "\n",
        "# Convert response to JSON format\n",
        "response_dict = json.loads(pdf_response.model_dump_json())\n",
        "\n",
        "print(json.dumps(response_dict, indent=4)[0:1000]) # check the first 1000 characters"
      ]
    },
    {
      "cell_type": "code",
      "execution_count": null,
      "metadata": {
        "colab": {
          "base_uri": "https://localhost:8080/",
          "height": 1000
        },
        "id": "sBTj2hGVorvi",
        "outputId": "df303fdb-8a95-434f-9360-187196fb769c"
      },
      "outputs": [],
      "source": [
        "from mistralai.models import OCRResponse\n",
        "from IPython.display import Markdown, display\n",
        "\n",
        "def replace_images_in_markdown(markdown_str: str, images_dict: dict) -> str:\n",
        "    \"\"\"\n",
        "    Replace image placeholders in markdown with base64-encoded images.\n",
        "\n",
        "    Args:\n",
        "        markdown_str: Markdown text containing image placeholders\n",
        "        images_dict: Dictionary mapping image IDs to base64 strings\n",
        "\n",
        "    Returns:\n",
        "        Markdown text with images replaced by base64 data\n",
        "    \"\"\"\n",
        "    for img_name, base64_str in images_dict.items():\n",
        "        markdown_str = markdown_str.replace(\n",
        "            f\"![{img_name}]({img_name})\", f\"![{img_name}]({base64_str})\"\n",
        "        )\n",
        "    return markdown_str\n",
        "\n",
        "def get_combined_markdown(ocr_response: OCRResponse) -> str:\n",
        "    \"\"\"\n",
        "    Combine OCR text and images into a single markdown document.\n",
        "\n",
        "    Args:\n",
        "        ocr_response: Response from OCR processing containing text and images\n",
        "\n",
        "    Returns:\n",
        "        Combined markdown string with embedded images\n",
        "    \"\"\"\n",
        "    markdowns: list[str] = []\n",
        "    # Extract images from page\n",
        "    for page in ocr_response.pages:\n",
        "        image_data = {}\n",
        "        for img in page.images:\n",
        "            image_data[img.id] = img.image_base64\n",
        "        # Replace image placeholders with actual images\n",
        "        markdowns.append(replace_images_in_markdown(page.markdown, image_data))\n",
        "\n",
        "    return \"\\n\\n\".join(markdowns)\n",
        "\n",
        "# Display combined markdowns and images\n",
        "display(Markdown(get_combined_markdown(pdf_response)))"
      ]
    },
    {
      "cell_type": "code",
      "execution_count": null,
      "metadata": {
        "id": "MVd4L47doPJK"
      },
      "outputs": [],
      "source": [
        "from pydantic import BaseModel\n",
        "from mistralai.models import TextChunk\n",
        "import time\n",
        "\n",
        "class StructuredOCR(BaseModel):\n",
        "    file_name: str\n",
        "    topics: list[str]\n",
        "    languages: str\n",
        "    ocr_contents: dict\n",
        "\n",
        "def retry_with_backoff(func, retries=5, base_delay=1.5):\n",
        "    for attempt in range(retries):\n",
        "        try:\n",
        "            return func()\n",
        "        except Exception as e:\n",
        "            if \"429\" in str(e):\n",
        "                wait_time = base_delay * (2 ** attempt)\n",
        "                print(f\"⚠️ API rate limit hit. Retrying in {wait_time:.1f}s...\")\n",
        "                time.sleep(wait_time)\n",
        "            else:\n",
        "                raise e\n",
        "    raise RuntimeError(\"❌ Failed after multiple retries.\")\n",
        "\n",
        "image_ocr_results = {}\n",
        "\n",
        "for page_idx, page in enumerate(pdf_response.pages):\n",
        "    for i, img in enumerate(page.images):\n",
        "        base64_data_url = img.image_base64\n",
        "        file_name = f\"page_{page_idx+1}_img_{i+1}.png\"\n",
        "\n",
        "        def run_ocr_and_parse():\n",
        "            # Step 1: basic OCR\n",
        "            image_response = client.ocr.process(\n",
        "                document=ImageURLChunk(image_url=base64_data_url),\n",
        "                model=\"mistral-ocr-latest\"\n",
        "            )\n",
        "            image_ocr_markdown = image_response.pages[0].markdown\n",
        "\n",
        "            # Step 2: 結構化 OCR markdown\n",
        "            structured = client.chat.parse(\n",
        "                model=\"pixtral-12b-latest\",\n",
        "                messages=[\n",
        "                    {\n",
        "                        \"role\": \"user\",\n",
        "                        \"content\": [\n",
        "                            ImageURLChunk(image_url=base64_data_url),\n",
        "                            TextChunk(text=(\n",
        "                                f\"This is the image's OCR in markdown:\\n{image_ocr_markdown}\\n. \"\n",
        "                                \"Convert this into a structured JSON response with the OCR contents in a sensible dictionary.\"\n",
        "                            ))\n",
        "                        ]\n",
        "                    }\n",
        "                ],\n",
        "                response_format=StructuredOCR,\n",
        "                temperature=0\n",
        "            )\n",
        "\n",
        "            structured_data = structured.choices[0].message.parsed\n",
        "            pretty_text = json.dumps(structured_data.ocr_contents, indent=2, ensure_ascii=False)\n",
        "            return pretty_text\n",
        "\n",
        "        try:\n",
        "            result = retry_with_backoff(run_ocr_and_parse, retries=4)\n",
        "            image_ocr_results[(page_idx, img.id)] = result\n",
        "        except Exception as e:\n",
        "            print(f\"❌ Failed at page {page_idx+1}, image {i+1}: {e}\")\n"
      ]
    },
    {
      "cell_type": "code",
      "execution_count": null,
      "metadata": {
        "id": "0qCKK2duoy72"
      },
      "outputs": [],
      "source": [
        "def insert_ocr_below_images(markdown_str, ocr_img_map, page_idx):\n",
        "    for img_id, ocr_text in ocr_img_map.get(page_idx, {}).items():\n",
        "        markdown_str = markdown_str.replace(\n",
        "            f\"![{img_id}]({img_id})\",\n",
        "            f\"![{img_id}]({img_id})\\n\\n> 📄 Image OCR Result：\\n\\n```json\\n{ocr_text}\\n```\"\n",
        "        )\n",
        "    return markdown_str\n",
        "\n",
        "# 重建 ocr_by_page\n",
        "ocr_by_page = {}\n",
        "for (page_idx, img_id), ocr_text in image_ocr_results.items():\n",
        "    ocr_by_page.setdefault(page_idx, {})[img_id] = ocr_text\n"
      ]
    },
    {
      "cell_type": "code",
      "execution_count": null,
      "metadata": {
        "id": "8IdUnFcfo0vt"
      },
      "outputs": [],
      "source": [
        "def save_images_and_replace_links(markdown_str, images_dict, page_idx, image_folder=\"images\"):\n",
        "    os.makedirs(image_folder, exist_ok=True)\n",
        "    image_id_to_path = {}\n",
        "\n",
        "    for i, (img_id, base64_str) in enumerate(images_dict.items()):\n",
        "        img_bytes = base64.b64decode(base64_str.split(\",\")[-1])\n",
        "        img_path = f\"{image_folder}/page_{page_idx+1}_img_{i+1}.png\"\n",
        "        with open(img_path, \"wb\") as f:\n",
        "            f.write(img_bytes)\n",
        "        image_id_to_path[img_id] = img_path\n",
        "\n",
        "    for img_id, img_path in image_id_to_path.items():\n",
        "        markdown_str = markdown_str.replace(\n",
        "            f\"![{img_id}]({img_id})\", f\"![{img_id}]({img_path})\"\n",
        "        )\n",
        "\n",
        "    return markdown_str\n"
      ]
    },
    {
      "cell_type": "code",
      "execution_count": null,
      "metadata": {
        "id": "Q34NBxOzujLg"
      },
      "outputs": [],
      "source": [
        "from google import genai\n",
        "from google.genai import types\n",
        "\n",
        "\n",
        "# ✅ 載入 .env 檔案\n",
        "load_dotenv()\n",
        "\n",
        "# ✅ 讀取 API 金鑰\n",
        "gemini_api_key = os.getenv(\"GEMINI_API_KEY\")\n",
        "if not gemini_api_key:\n",
        "    raise ValueError(\"❌ 未在 .env 找到 GEMINI_API_KEY，請確認已正確設置。\")\n",
        "\n",
        "# ✅ 初始化 Gemini client\n",
        "client = genai.Client(api_key=gemini_api_key)\n",
        "\n",
        "SYSTEM_INSTRUCTION = \"\"\"\n",
        "你是一位專業的技術文件翻譯者。請將我提供的英文 Markdown 內容翻譯成**台灣繁體中文**。\n",
        "\n",
        "**核心要求：**\n",
        "1.  **翻譯所有英文文字：** 你的主要工作是翻譯內容中的英文敘述性文字（段落、列表、表格等）。\n",
        "2.  **保持結構與程式碼不變：**\n",
        "    * **不要**更改任何 Markdown 標記（如 `#`, `*`, `-`, `[]()`, `![]()`, ``` ```, ` `` `, `---`）。\n",
        "    * **不要**翻譯或修改程式碼區塊 (``` ... ```) 和行內程式碼 (`code`) 裡的任何內容。\n",
        "    * 若有 JSON，**不要**更改鍵（key），僅翻譯字串值（value）。\n",
        "3.  **處理專有名詞：** 對於普遍接受的英文技術術語、縮寫或專有名詞（例如 API, SDK, CPU, Google, Python 等），傾向於**保留英文原文**。但請確保翻譯了其他所有非術語的常規英文文字。\n",
        "4.  **直接輸出結果：** 請直接回傳翻譯後的完整 Markdown 文件，不要添加任何額外說明。\n",
        "\"\"\"\n",
        "\n",
        "\n",
        "def translate_markdown_pages(pages):\n",
        "    translated_pages = []\n",
        "\n",
        "    for idx, page in enumerate(pages):\n",
        "        try:\n",
        "            print(f\"🔁 正在翻譯第 {idx+1} 頁...\")\n",
        "\n",
        "            response = client.models.generate_content(\n",
        "                model=\"gemini-2.0-flash\",\n",
        "                config=types.GenerateContentConfig(\n",
        "                    system_instruction=SYSTEM_INSTRUCTION\n",
        "                ),\n",
        "                contents=page\n",
        "            )\n",
        "\n",
        "            translated_md = response.text.strip()\n",
        "            translated_pages.append(translated_md)\n",
        "\n",
        "        except Exception as e:\n",
        "            print(f\"⚠️ 翻譯第 {idx+1} 頁失敗：{e}\")\n",
        "            translated_pages.append(page)\n",
        "\n",
        "    return translated_pages\n"
      ]
    },
    {
      "cell_type": "code",
      "execution_count": null,
      "metadata": {
        "colab": {
          "base_uri": "https://localhost:8080/",
          "height": 1000,
          "resources": {
            "http://localhost:8080/images_paper2/page_2_img_1.png": {
              "data": "",
              "headers": [
                [
                  "content-length",
                  "0"
                ]
              ],
              "ok": false,
              "status": 404,
              "status_text": ""
            },
            "http://localhost:8080/images_paper2/page_8_img_1.png": {
              "data": "",
              "headers": [
                [
                  "content-length",
                  "0"
                ]
              ],
              "ok": false,
              "status": 404,
              "status_text": ""
            }
          }
        },
        "id": "d_qOspnAvRWK",
        "outputId": "8e50c7f3-fa5f-4f19-b1fc-21f60d733162"
      },
      "outputs": [],
      "source": [
        "from pathlib import Path\n",
        "\n",
        "filename_stem = pdf_file.stem\n",
        "\n",
        "markdown_pages = []\n",
        "\n",
        "for page_idx, page in enumerate(pdf_response.pages):\n",
        "    images_dict = {img.id: img.image_base64 for img in page.images}\n",
        "\n",
        "    md = page.markdown\n",
        "    md = insert_ocr_below_images(md, ocr_by_page, page_idx)\n",
        "    image_folder_name = f\"images_{filename_stem}\"\n",
        "    md = save_images_and_replace_links(md, images_dict, page_idx, image_folder=image_folder_name)\n",
        "\n",
        "\n",
        "    markdown_pages.append(md)\n",
        "\n",
        "\n",
        "# ✅ 執行翻譯\n",
        "translated_markdown_pages = translate_markdown_pages(markdown_pages)\n",
        "\n",
        "# ✅ 組合為完整 markdown 字串（保留分頁分隔線）\n",
        "final_markdown_translated = \"\\n\\n---\\n\\n\".join(translated_markdown_pages)\n",
        "final_markdown_original = \"\\n\\n---\\n\\n\".join(markdown_pages)\n",
        "\n",
        "# 預覽翻譯版本\n",
        "display(Markdown(final_markdown_translated))"
      ]
    },
    {
      "cell_type": "code",
      "execution_count": null,
      "metadata": {
        "colab": {
          "base_uri": "https://localhost:8080/",
          "height": 17
        },
        "id": "o5fKPWsu3xgY",
        "outputId": "cd801a85-b410-486e-b2e0-cfd983d790ee"
      },
      "outputs": [],
      "source": [
        "# 🔽 設定檔名\n",
        "translated_md_name = f\"{filename_stem}_translated.md\"\n",
        "original_md_name = f\"{filename_stem}_original.md\"\n",
        "image_folder_name = f\"images_{filename_stem}\"\n",
        "\n",
        "# 儲存翻譯後檔案\n",
        "with open(translated_md_name, \"w\", encoding=\"utf-8\") as f:\n",
        "    f.write(final_markdown_translated)\n",
        "\n",
        "# 儲存英文 OCR 原始檔案\n",
        "with open(original_md_name, \"w\", encoding=\"utf-8\") as f:\n",
        "    f.write(final_markdown_original)\n",
        "\n",
        "\n",
        "# 下載所有檔案\n",
        "print(f\"✅ 已儲存翻譯版：{translated_md_name}\")\n",
        "print(f\"✅ 已儲存原始英文版：{original_md_name}\")\n",
        "print(f\"✅ 圖片資料夾：{image_folder_name}\")\n"
      ]
    }
  ],
  "metadata": {
    "colab": {
      "provenance": []
    },
    "kernelspec": {
      "display_name": "Python (mistral_ocr)",
      "language": "python",
      "name": "mistral_ocr"
    },
    "language_info": {
      "codemirror_mode": {
        "name": "ipython",
        "version": 3
      },
      "file_extension": ".py",
      "mimetype": "text/x-python",
      "name": "python",
      "nbconvert_exporter": "python",
      "pygments_lexer": "ipython3",
      "version": "3.10.11"
    }
  },
  "nbformat": 4,
  "nbformat_minor": 0
}
